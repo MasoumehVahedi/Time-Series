{
 "cells": [
  {
   "cell_type": "code",
   "execution_count": 2,
   "metadata": {},
   "outputs": [],
   "source": [
    "#Importing the necessary libraries\n",
    "import numpy as np\n",
    "import pandas as pd\n",
    "import matplotlib.pyplot as plt\n",
    "import seaborn as sns\n",
    "\n",
    "from keras.models import Sequential\n",
    "from keras.layers import Dense\n",
    "from keras.layers import LSTM\n",
    "from keras.layers import Dropout\n",
    "from sklearn.preprocessing import StandardScaler"
   ]
  },
  {
   "cell_type": "code",
   "execution_count": 3,
   "metadata": {},
   "outputs": [
    {
     "data": {
      "text/html": [
       "<div>\n",
       "<style scoped>\n",
       "    .dataframe tbody tr th:only-of-type {\n",
       "        vertical-align: middle;\n",
       "    }\n",
       "\n",
       "    .dataframe tbody tr th {\n",
       "        vertical-align: top;\n",
       "    }\n",
       "\n",
       "    .dataframe thead th {\n",
       "        text-align: right;\n",
       "    }\n",
       "</style>\n",
       "<table border=\"1\" class=\"dataframe\">\n",
       "  <thead>\n",
       "    <tr style=\"text-align: right;\">\n",
       "      <th></th>\n",
       "      <th>Date</th>\n",
       "      <th>VIX Open</th>\n",
       "      <th>VIX High</th>\n",
       "      <th>VIX Low</th>\n",
       "      <th>VIX Close</th>\n",
       "    </tr>\n",
       "  </thead>\n",
       "  <tbody>\n",
       "    <tr>\n",
       "      <th>0</th>\n",
       "      <td>2004-01-02</td>\n",
       "      <td>17.96</td>\n",
       "      <td>18.68</td>\n",
       "      <td>17.54</td>\n",
       "      <td>18.22</td>\n",
       "    </tr>\n",
       "    <tr>\n",
       "      <th>1</th>\n",
       "      <td>2004-01-05</td>\n",
       "      <td>18.45</td>\n",
       "      <td>18.49</td>\n",
       "      <td>17.44</td>\n",
       "      <td>17.49</td>\n",
       "    </tr>\n",
       "    <tr>\n",
       "      <th>2</th>\n",
       "      <td>2004-01-06</td>\n",
       "      <td>17.66</td>\n",
       "      <td>17.67</td>\n",
       "      <td>16.19</td>\n",
       "      <td>16.73</td>\n",
       "    </tr>\n",
       "    <tr>\n",
       "      <th>3</th>\n",
       "      <td>2004-01-07</td>\n",
       "      <td>16.72</td>\n",
       "      <td>16.75</td>\n",
       "      <td>15.50</td>\n",
       "      <td>15.50</td>\n",
       "    </tr>\n",
       "    <tr>\n",
       "      <th>4</th>\n",
       "      <td>2004-01-08</td>\n",
       "      <td>15.42</td>\n",
       "      <td>15.68</td>\n",
       "      <td>15.32</td>\n",
       "      <td>15.61</td>\n",
       "    </tr>\n",
       "  </tbody>\n",
       "</table>\n",
       "</div>"
      ],
      "text/plain": [
       "        Date  VIX Open  VIX High  VIX Low  VIX Close\n",
       "0 2004-01-02     17.96     18.68    17.54      18.22\n",
       "1 2004-01-05     18.45     18.49    17.44      17.49\n",
       "2 2004-01-06     17.66     17.67    16.19      16.73\n",
       "3 2004-01-07     16.72     16.75    15.50      15.50\n",
       "4 2004-01-08     15.42     15.68    15.32      15.61"
      ]
     },
     "metadata": {},
     "output_type": "display_data"
    }
   ],
   "source": [
    "dataset = pd.read_csv('D:/finance-vix.txt',\n",
    "                     sep=',',\n",
    "                     parse_dates=[0],\n",
    "                     infer_datetime_format=True,\n",
    "                     index_col=False,\n",
    "                     na_values=['nan', '?'])\n",
    "\n",
    "#Fill na values with 0\n",
    "dataset.fillna(0, inplace=True)\n",
    "display(dataset.head())\n",
    "\n",
    "#Separate 'Date' from dataframe and convert to 'to_datetime'\n",
    "date_col = dataset['Date'] \n",
    "date_col = pd.to_datetime(date_col)\n",
    "\n",
    "#Drop date from dataset\n",
    "dataset = dataset.drop('Date', axis=1)\n",
    "\n",
    "#variable for training\n",
    "values = dataset.values\n",
    "values = values.astype('float32')"
   ]
  },
  {
   "cell_type": "code",
   "execution_count": 4,
   "metadata": {},
   "outputs": [
    {
     "data": {
      "text/html": [
       "<div>\n",
       "<style scoped>\n",
       "    .dataframe tbody tr th:only-of-type {\n",
       "        vertical-align: middle;\n",
       "    }\n",
       "\n",
       "    .dataframe tbody tr th {\n",
       "        vertical-align: top;\n",
       "    }\n",
       "\n",
       "    .dataframe thead th {\n",
       "        text-align: right;\n",
       "    }\n",
       "</style>\n",
       "<table border=\"1\" class=\"dataframe\">\n",
       "  <thead>\n",
       "    <tr style=\"text-align: right;\">\n",
       "      <th></th>\n",
       "      <th>VIX Open</th>\n",
       "      <th>VIX High</th>\n",
       "      <th>VIX Low</th>\n",
       "      <th>VIX Close</th>\n",
       "    </tr>\n",
       "  </thead>\n",
       "  <tbody>\n",
       "    <tr>\n",
       "      <th>0</th>\n",
       "      <td>17.96</td>\n",
       "      <td>18.68</td>\n",
       "      <td>17.54</td>\n",
       "      <td>18.22</td>\n",
       "    </tr>\n",
       "    <tr>\n",
       "      <th>1</th>\n",
       "      <td>18.45</td>\n",
       "      <td>18.49</td>\n",
       "      <td>17.44</td>\n",
       "      <td>17.49</td>\n",
       "    </tr>\n",
       "    <tr>\n",
       "      <th>2</th>\n",
       "      <td>17.66</td>\n",
       "      <td>17.67</td>\n",
       "      <td>16.19</td>\n",
       "      <td>16.73</td>\n",
       "    </tr>\n",
       "    <tr>\n",
       "      <th>3</th>\n",
       "      <td>16.72</td>\n",
       "      <td>16.75</td>\n",
       "      <td>15.50</td>\n",
       "      <td>15.50</td>\n",
       "    </tr>\n",
       "    <tr>\n",
       "      <th>4</th>\n",
       "      <td>15.42</td>\n",
       "      <td>15.68</td>\n",
       "      <td>15.32</td>\n",
       "      <td>15.61</td>\n",
       "    </tr>\n",
       "  </tbody>\n",
       "</table>\n",
       "</div>"
      ],
      "text/plain": [
       "   VIX Open  VIX High  VIX Low  VIX Close\n",
       "0     17.96     18.68    17.54      18.22\n",
       "1     18.45     18.49    17.44      17.49\n",
       "2     17.66     17.67    16.19      16.73\n",
       "3     16.72     16.75    15.50      15.50\n",
       "4     15.42     15.68    15.32      15.61"
      ]
     },
     "execution_count": 4,
     "metadata": {},
     "output_type": "execute_result"
    }
   ],
   "source": [
    "#All variables without 'Date'\n",
    "dataset.head()"
   ]
  },
  {
   "cell_type": "code",
   "execution_count": 5,
   "metadata": {},
   "outputs": [
    {
     "data": {
      "text/plain": [
       "<AxesSubplot:>"
      ]
     },
     "execution_count": 5,
     "metadata": {},
     "output_type": "execute_result"
    },
    {
     "data": {
      "image/png": "[encoded data removed]",
      "text/plain": [
       "<Figure size 432x288 with 1 Axes>"
      ]
     },
     "metadata": {
      "needs_background": "light"
     },
     "output_type": "display_data"
    }
   ],
   "source": [
    "#Plotting values\n",
    "values_plot = dataset.tail(3000)\n",
    "values_plot.plot.line()"
   ]
  },
  {
   "cell_type": "code",
   "execution_count": 6,
   "metadata": {},
   "outputs": [],
   "source": [
    "#Because of using tanh and sigmoid in LSTM that are sensitive to magnitade, values have to be normalized\n",
    "#Normalizing variables\n",
    "scaler = StandardScaler()\n",
    "scaler = scaler.fit(values)\n",
    "values_scaled = scaler.transform(values)\n",
    "scaled = pd.DataFrame(values_scaled)"
   ]
  },
  {
   "cell_type": "code",
   "execution_count": 7,
   "metadata": {},
   "outputs": [
    {
     "data": {
      "text/html": [
       "<div>\n",
       "<style scoped>\n",
       "    .dataframe tbody tr th:only-of-type {\n",
       "        vertical-align: middle;\n",
       "    }\n",
       "\n",
       "    .dataframe tbody tr th {\n",
       "        vertical-align: top;\n",
       "    }\n",
       "\n",
       "    .dataframe thead th {\n",
       "        text-align: right;\n",
       "    }\n",
       "</style>\n",
       "<table border=\"1\" class=\"dataframe\">\n",
       "  <thead>\n",
       "    <tr style=\"text-align: right;\">\n",
       "      <th></th>\n",
       "      <th>0</th>\n",
       "      <th>1</th>\n",
       "      <th>2</th>\n",
       "      <th>3</th>\n",
       "    </tr>\n",
       "  </thead>\n",
       "  <tbody>\n",
       "    <tr>\n",
       "      <th>0</th>\n",
       "      <td>-0.056011</td>\n",
       "      <td>-0.065623</td>\n",
       "      <td>-0.008681</td>\n",
       "      <td>-0.015599</td>\n",
       "    </tr>\n",
       "    <tr>\n",
       "      <th>1</th>\n",
       "      <td>-0.000821</td>\n",
       "      <td>-0.085699</td>\n",
       "      <td>-0.020774</td>\n",
       "      <td>-0.098144</td>\n",
       "    </tr>\n",
       "    <tr>\n",
       "      <th>2</th>\n",
       "      <td>-0.089800</td>\n",
       "      <td>-0.172342</td>\n",
       "      <td>-0.171944</td>\n",
       "      <td>-0.184082</td>\n",
       "    </tr>\n",
       "    <tr>\n",
       "      <th>3</th>\n",
       "      <td>-0.195675</td>\n",
       "      <td>-0.269552</td>\n",
       "      <td>-0.255389</td>\n",
       "      <td>-0.323165</td>\n",
       "    </tr>\n",
       "    <tr>\n",
       "      <th>4</th>\n",
       "      <td>-0.342097</td>\n",
       "      <td>-0.382612</td>\n",
       "      <td>-0.277158</td>\n",
       "      <td>-0.310727</td>\n",
       "    </tr>\n",
       "  </tbody>\n",
       "</table>\n",
       "</div>"
      ],
      "text/plain": [
       "          0         1         2         3\n",
       "0 -0.056011 -0.065623 -0.008681 -0.015599\n",
       "1 -0.000821 -0.085699 -0.020774 -0.098144\n",
       "2 -0.089800 -0.172342 -0.171944 -0.184082\n",
       "3 -0.195675 -0.269552 -0.255389 -0.323165\n",
       "4 -0.342097 -0.382612 -0.277158 -0.310727"
      ]
     },
     "execution_count": 7,
     "metadata": {},
     "output_type": "execute_result"
    }
   ],
   "source": [
    "scaled.head()"
   ]
  },
  {
   "cell_type": "code",
   "execution_count": 8,
   "metadata": {},
   "outputs": [
    {
     "name": "stdout",
     "output_type": "stream",
     "text": [
      "X_train shape is: (3710, 15, 4)\n",
      "Y_train shape is: (3710, 1)\n"
     ]
    }
   ],
   "source": [
    "#For LSTM network, input data should be shaped into n_sample * timesteps\n",
    "# In this case, n_features is 2. we will make timesteps= 3\n",
    "# So, n_samples is equal to 5\n",
    "\n",
    "x_train = []   #training series\n",
    "y_train = []   #prediction\n",
    "\n",
    "#Number of days that we want to predict to the future\n",
    "num_future = 1\n",
    "#Number of past days that we plan to predict the future based on it\n",
    "num_past = 15\n",
    "\n",
    "for i in range(num_past, len(values) - num_future + 1):\n",
    "    x_train.append(values_scaled[i - num_past:i, 0:values.shape[1]])\n",
    "    y_train.append(values_scaled[i + num_future - 1:i + num_future, 0])\n",
    "    \n",
    "X_train, Y_train = np.array(x_train), np.array(y_train)\n",
    "\n",
    "#Print train X and Y shape\n",
    "print(\"X_train shape is: {}\".format(X_train.shape))\n",
    "print(\"Y_train shape is: {}\".format(Y_train.shape))"
   ]
  },
  {
   "cell_type": "markdown",
   "metadata": {},
   "source": [
    "## Set LSTM model"
   ]
  },
  {
   "cell_type": "code",
   "execution_count": 11,
   "metadata": {},
   "outputs": [
    {
     "name": "stdout",
     "output_type": "stream",
     "text": [
      "Model: \"sequential_2\"\n",
      "_________________________________________________________________\n",
      "Layer (type)                 Output Shape              Param #   \n",
      "=================================================================\n",
      "lstm_3 (LSTM)                (None, 15, 64)            17664     \n",
      "_________________________________________________________________\n",
      "lstm_4 (LSTM)                (None, 32)                12416     \n",
      "_________________________________________________________________\n",
      "dropout_2 (Dropout)          (None, 32)                0         \n",
      "_________________________________________________________________\n",
      "dense_2 (Dense)              (None, 1)                 33        \n",
      "=================================================================\n",
      "Total params: 30,113\n",
      "Trainable params: 30,113\n",
      "Non-trainable params: 0\n",
      "_________________________________________________________________\n"
     ]
    }
   ],
   "source": [
    "model = Sequential()\n",
    "model.add(LSTM(units=64, activation='relu', return_sequences=True, input_shape=(X_train.shape[1], X_train.shape[2])))\n",
    "model.add(LSTM(units=32, activation='relu', return_sequences=False))\n",
    "model.add(Dropout(0.2))\n",
    "model.add(Dense(Y_train.shape[1]))\n",
    "\n",
    "#Compile the model\n",
    "model.compile(loss='mse', optimizer='adam')\n",
    "model.summary()"
   ]
  },
  {
   "cell_type": "code",
   "execution_count": 12,
   "metadata": {},
   "outputs": [
    {
     "name": "stdout",
     "output_type": "stream",
     "text": [
      "WARNING:tensorflow:From C:\\Users\\VHD\\anaconda3\\envs\\SI\\lib\\site-packages\\keras\\backend\\tensorflow_backend.py:422: The name tf.global_variables is deprecated. Please use tf.compat.v1.global_variables instead.\n",
      "\n",
      "Train on 3339 samples, validate on 371 samples\n",
      "Epoch 1/15\n",
      "3339/3339 [==============================] - 7s 2ms/step - loss: 0.2836 - val_loss: 0.0626\n",
      "Epoch 2/15\n",
      "3339/3339 [==============================] - 4s 1ms/step - loss: 0.1100 - val_loss: 0.0446\n",
      "Epoch 3/15\n",
      "3339/3339 [==============================] - 5s 1ms/step - loss: 0.0895 - val_loss: 0.0364\n",
      "Epoch 4/15\n",
      "3339/3339 [==============================] - 4s 1ms/step - loss: 0.0669 - val_loss: 0.0298\n",
      "Epoch 5/15\n",
      "3339/3339 [==============================] - 5s 1ms/step - loss: 0.0619 - val_loss: 0.0278\n",
      "Epoch 6/15\n",
      "3339/3339 [==============================] - 5s 1ms/step - loss: 0.0500 - val_loss: 0.0240\n",
      "Epoch 7/15\n",
      "3339/3339 [==============================] - 5s 1ms/step - loss: 0.0479 - val_loss: 0.0228\n",
      "Epoch 8/15\n",
      "3339/3339 [==============================] - 5s 1ms/step - loss: 0.0597 - val_loss: 0.0240\n",
      "Epoch 9/15\n",
      "3339/3339 [==============================] - 5s 1ms/step - loss: 0.0445 - val_loss: 0.0104\n",
      "Epoch 10/15\n",
      "3339/3339 [==============================] - 5s 1ms/step - loss: 0.0415 - val_loss: 0.0111\n",
      "Epoch 11/15\n",
      "3339/3339 [==============================] - 5s 1ms/step - loss: 0.0421 - val_loss: 0.0079\n",
      "Epoch 12/15\n",
      "3339/3339 [==============================] - 5s 1ms/step - loss: 0.0498 - val_loss: 0.0082\n",
      "Epoch 13/15\n",
      "3339/3339 [==============================] - 5s 1ms/step - loss: 0.0402 - val_loss: 0.0114\n",
      "Epoch 14/15\n",
      "3339/3339 [==============================] - 5s 1ms/step - loss: 0.0422 - val_loss: 0.0122\n",
      "Epoch 15/15\n",
      "3339/3339 [==============================] - 5s 1ms/step - loss: 0.0404 - val_loss: 0.0117\n"
     ]
    }
   ],
   "source": [
    "#fit the model\n",
    "history_lstm = model.fit(X_train, Y_train, epochs=15, batch_size=32, validation_split=0.1, verbose=1)"
   ]
  },
  {
   "cell_type": "code",
   "execution_count": 13,
   "metadata": {},
   "outputs": [
    {
     "data": {
      "image/png": "[encoded data removed]",
      "text/plain": [
       "<Figure size 432x288 with 1 Axes>"
      ]
     },
     "metadata": {
      "needs_background": "light"
     },
     "output_type": "display_data"
    }
   ],
   "source": [
    "plt.plot(history_lstm.history['loss'], label='Training loss', color='red')\n",
    "plt.plot(history_lstm.history['val_loss'], label='Validation loss', color= 'green')\n",
    "plt.legend()\n",
    "plt.show()"
   ]
  },
  {
   "cell_type": "markdown",
   "metadata": {},
   "source": [
    "## Predicting"
   ]
  },
  {
   "cell_type": "code",
   "execution_count": 15,
   "metadata": {},
   "outputs": [
    {
     "name": "stdout",
     "output_type": "stream",
     "text": [
      "[[-0.6375535]\n",
      " [-0.5683897]\n",
      " [-0.6229846]\n",
      " [-0.6627502]\n",
      " [-0.643865 ]]\n"
     ]
    }
   ],
   "source": [
    "#We want to predict for 70 days\n",
    "#So, we can change the number of future for prediction\n",
    "num_future = 70\n",
    "#To predict time from the last date in dataset: date_col[-1]\n",
    "predict_dates = pd.date_range(list(date_col)[-1], periods=num_future, freq='1d').tolist()\n",
    "\n",
    "#Predicting\n",
    "prediction = model.predict(X_train[-num_future:])\n",
    "print(prediction[:5])"
   ]
  },
  {
   "cell_type": "code",
   "execution_count": 20,
   "metadata": {},
   "outputs": [
    {
     "name": "stdout",
     "output_type": "stream",
     "text": [
      "[12.796801 13.410869 12.92615  12.573093 12.740765 12.578481 12.325375\n",
      " 12.626179 12.879829 12.934045]\n"
     ]
    }
   ],
   "source": [
    "#Now, we need to inverse transformation to rescale back to original range\n",
    "#Here, 5 variables was used for transform\n",
    "#So, we copy the values 5 times and get rid of them after inverse transform\n",
    "copy_pred = np.repeat(prediction, values.shape[1], axis=-1)\n",
    "y_pred = scaler.inverse_transform(copy_pred)[:,0]\n",
    "print(y_pred[:10])"
   ]
  },
  {
   "cell_type": "code",
   "execution_count": 21,
   "metadata": {},
   "outputs": [],
   "source": [
    "#Read original dataset again\n",
    "df = pd.read_csv('D:/finance-vix.txt',\n",
    "                     sep=',',\n",
    "                     parse_dates=[0],\n",
    "                     infer_datetime_format=True,\n",
    "                     index_col=False,\n",
    "                     na_values=['nan', '?'])"
   ]
  },
  {
   "cell_type": "code",
   "execution_count": 22,
   "metadata": {},
   "outputs": [
    {
     "name": "stderr",
     "output_type": "stream",
     "text": [
      "C:\\Users\\VHD\\anaconda3\\envs\\SI\\lib\\site-packages\\ipykernel_launcher.py:10: SettingWithCopyWarning: \n",
      "A value is trying to be set on a copy of a slice from a DataFrame.\n",
      "Try using .loc[row_indexer,col_indexer] = value instead\n",
      "\n",
      "See the caveats in the documentation: https://pandas.pydata.org/pandas-docs/stable/user_guide/indexing.html#returning-a-view-versus-a-copy\n",
      "  # Remove the CWD from sys.path while we load stuff.\n",
      "C:\\Users\\VHD\\anaconda3\\envs\\SI\\lib\\site-packages\\seaborn\\_decorators.py:43: FutureWarning: Pass the following variables as keyword args: x, y. From version 0.12, the only valid positional argument will be `data`, and passing other arguments without an explicit keyword will result in an error or misinterpretation.\n",
      "  FutureWarning\n",
      "C:\\Users\\VHD\\anaconda3\\envs\\SI\\lib\\site-packages\\seaborn\\_decorators.py:43: FutureWarning: Pass the following variables as keyword args: x, y. From version 0.12, the only valid positional argument will be `data`, and passing other arguments without an explicit keyword will result in an error or misinterpretation.\n",
      "  FutureWarning\n"
     ]
    },
    {
     "data": {
      "text/plain": [
       "<AxesSubplot:xlabel='Date', ylabel='VIX Open'>"
      ]
     },
     "execution_count": 22,
     "metadata": {},
     "output_type": "execute_result"
    },
    {
     "data": {
      "image/png": "[encoded data removed]",
      "text/plain": [
       "<Figure size 432x288 with 1 Axes>"
      ]
     },
     "metadata": {
      "needs_background": "light"
     },
     "output_type": "display_data"
    }
   ],
   "source": [
    "#Convert timestamp to date\n",
    "pred_date = []\n",
    "for time_i in predict_dates:\n",
    "    pred_date.append(time_i.date())\n",
    "    \n",
    "df_predict = pd.DataFrame({'Date':np.array(pred_date), 'VIX Open':y_pred})\n",
    "df_predict['Date'] = pd.to_datetime(df_predict['Date'])\n",
    "\n",
    "original = df[['Date', 'VIX Open']]\n",
    "original['Date'] = pd.to_datetime(original['Date'])\n",
    "original = original.loc[original['Date'] >= '2015-5-1']\n",
    "\n",
    "sns.lineplot(original['Date'], original['VIX Open'])\n",
    "sns.lineplot(df_predict['Date'], df_predict['VIX Open'])"
   ]
  },
  {
   "cell_type": "code",
   "execution_count": null,
   "metadata": {},
   "outputs": [],
   "source": []
  }
 ],
 "metadata": {
  "kernelspec": {
   "display_name": "Python 3",
   "language": "python",
   "name": "python3"
  },
  "language_info": {
   "codemirror_mode": {
    "name": "ipython",
    "version": 3
   },
   "file_extension": ".py",
   "mimetype": "text/x-python",
   "name": "python",
   "nbconvert_exporter": "python",
   "pygments_lexer": "ipython3",
   "version": "3.7.9"
  }
 },
 "nbformat": 4,
 "nbformat_minor": 4
}
