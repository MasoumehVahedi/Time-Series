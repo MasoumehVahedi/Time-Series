{
 "cells": [
  {
   "cell_type": "code",
   "execution_count": 29,
   "metadata": {},
   "outputs": [],
   "source": [
    "import pandas as pd\n",
    "import matplotlib.pyplot as plt\n",
    "import statsmodels.api as sm\n",
    "\n",
    "from keras.models import Sequential\n",
    "from keras.layers import Dense\n",
    "from keras.wrappers.scikit_learn import KerasRegressor\n",
    "\n",
    "from sklearn import linear_model\n",
    "from sklearn.metrics import mean_squared_error, mean_absolute_error\n",
    "\n",
    "from sklearn.model_selection import cross_val_score\n",
    "from sklearn.model_selection import KFold\n",
    "from sklearn.model_selection import train_test_split\n",
    "from sklearn.preprocessing import StandardScaler"
   ]
  },
  {
   "cell_type": "code",
   "execution_count": 76,
   "metadata": {},
   "outputs": [
    {
     "name": "stdout",
     "output_type": "stream",
     "text": [
      "        Date   Open  VIX High  VIX Low  Close\n",
      "0 2004-01-02  17.96     18.68    17.54  18.22\n",
      "1 2004-01-05  18.45     18.49    17.44  17.49\n",
      "2 2004-01-06  17.66     17.67    16.19  16.73\n",
      "3 2004-01-07  16.72     16.75    15.50  15.50\n",
      "4 2004-01-08  15.42     15.68    15.32  15.61\n",
      "              Open     VIX High      VIX Low        Close\n",
      "count  3725.000000  3725.000000  3725.000000  3725.000000\n",
      "mean     18.457289    19.301055    17.611780    18.357952\n",
      "std       8.879643     9.465319     8.269978     8.844818\n",
      "min       9.010000     9.310000     8.560000     9.140000\n",
      "25%      13.010000    13.470000    12.540000    12.910000\n",
      "50%      15.720000    16.440000    15.070000    15.600000\n",
      "75%      20.900000    21.910000    19.890000    20.790000\n",
      "max      80.740000    89.530000    72.760000    80.860000\n"
     ]
    }
   ],
   "source": [
    "df = pd.read_csv('D:/finance-vix.txt',\n",
    "                sep=',',\n",
    "                infer_datetime_format=True,\n",
    "                index_col=False)\n",
    "\n",
    "#convert'Date' into 'to_datetime'\n",
    "df['Date'] = pd.to_datetime(df['Date'])\n",
    "\n",
    "#To change the name of MEDV column to PRICE \n",
    "df = df.rename(columns={'VIX Close':'Close'})\n",
    "df = df.rename(columns={'VIX Open':'Open'})\n",
    "\n",
    "print(df.head())\n",
    "print(df.describe())"
   ]
  },
  {
   "cell_type": "code",
   "execution_count": 38,
   "metadata": {},
   "outputs": [
    {
     "data": {
      "image/png": "[encoded data removed]",
      "text/plain": [
       "<Figure size 432x288 with 1 Axes>"
      ]
     },
     "metadata": {
      "needs_background": "light"
     },
     "output_type": "display_data"
    }
   ],
   "source": [
    "plt.xlabel('Open')\n",
    "plt.ylabel('Close')\n",
    "plt.scatter(df.Open[:100], df.Close[:100], color='red', marker='+')\n",
    "plt.show()"
   ]
  },
  {
   "cell_type": "markdown",
   "metadata": {},
   "source": [
    "# Set Linear Regression"
   ]
  },
  {
   "cell_type": "markdown",
   "metadata": {},
   "source": [
    "## Univariate linear regression"
   ]
  },
  {
   "cell_type": "code",
   "execution_count": 50,
   "metadata": {},
   "outputs": [
    {
     "name": "stdout",
     "output_type": "stream",
     "text": [
      "X_train shape (2980, 1)\n",
      "Y_train shape (2980,)\n",
      "X_test shape (745, 1)\n",
      "Y_test shape (745,)\n"
     ]
    }
   ],
   "source": [
    "# X independent (Open)\n",
    "# Y dependent - we are predictiong Y\n",
    "X = df[['Open']]\n",
    "Y = df['Close']\n",
    "\n",
    "#Now split our data into train and test\n",
    "X_train, X_test, Y_train, Y_test = train_test_split(X, Y, test_size=0.2, random_state=20)\n",
    "\n",
    "print('X_train shape {}'.format(X_train.shape))\n",
    "print('Y_train shape {}'.format(Y_train.shape))\n",
    "print('X_test shape {}'.format(X_test.shape))\n",
    "print('Y_test shape {}'.format(Y_test.shape))"
   ]
  },
  {
   "cell_type": "code",
   "execution_count": 40,
   "metadata": {},
   "outputs": [],
   "source": [
    "#Scale data, otherwise model will fail\n",
    "scaler = StandardScaler()\n",
    "scaler = scaler.fit(X_train)\n",
    "\n",
    "X_train_scaled = scaler.transform(X_train)\n",
    "X_test_scaled = scaler.transform(X_test)"
   ]
  },
  {
   "cell_type": "code",
   "execution_count": 46,
   "metadata": {},
   "outputs": [],
   "source": [
    "#Create an instance of the model\n",
    "reg = linear_model.LinearRegression()\n",
    "#Training model (fit a line)\n",
    "reg.fit(X_train_scaled, Y_train)\n",
    "#Prediction model\n",
    "y_pred_reg = reg.predict(X_test_scaled)"
   ]
  },
  {
   "cell_type": "code",
   "execution_count": 42,
   "metadata": {},
   "outputs": [
    {
     "name": "stdout",
     "output_type": "stream",
     "text": [
      "Mean Squared Error from linear regression:  1.6063304087040298\n",
      "Mean Absolute Error from linear regression:  0.8046095214655167\n"
     ]
    }
   ],
   "source": [
    "mse_reg = mean_squared_error(Y_test, y_pred_reg)\n",
    "mae_reg = mean_absolute_error(Y_test, y_pred_reg)\n",
    "\n",
    "print('Mean Squared Error from linear regression: ', mse_reg)\n",
    "print('Mean Absolute Error from linear regression: ', mae_reg)"
   ]
  },
  {
   "cell_type": "markdown",
   "metadata": {},
   "source": [
    "## Multivariate linear regression"
   ]
  },
  {
   "cell_type": "code",
   "execution_count": 73,
   "metadata": {},
   "outputs": [
    {
     "name": "stdout",
     "output_type": "stream",
     "text": [
      "X_train shape (2980, 3)\n",
      "Y_train shape (2980,)\n",
      "X_test shape (745, 3)\n",
      "Y_test shape (745,)\n"
     ]
    }
   ],
   "source": [
    "#Drop 'Date' column\n",
    "df = df.drop('Date', axis=1)\n",
    "\n",
    "# X independent \n",
    "# Y dependent - we are predictiong Y (Close)\n",
    "X = df.drop('Close', axis=1)\n",
    "Y = df['Close']\n",
    "\n",
    "#Now split our data into train and test\n",
    "X_train, X_test, Y_train, Y_test = train_test_split(X, Y, test_size=0.2, random_state=20)\n",
    "\n",
    "print('X_train shape {}'.format(X_train.shape))\n",
    "print('Y_train shape {}'.format(Y_train.shape))\n",
    "print('X_test shape {}'.format(X_test.shape))\n",
    "print('Y_test shape {}'.format(Y_test.shape))"
   ]
  },
  {
   "cell_type": "code",
   "execution_count": 74,
   "metadata": {},
   "outputs": [],
   "source": [
    "#Scale data, otherwise model will fail\n",
    "scaler = StandardScaler()\n",
    "scaler = scaler.fit(X_train)\n",
    "\n",
    "X_train_scaled = scaler.transform(X_train)\n",
    "X_test_scaled = scaler.transform(X_test)"
   ]
  },
  {
   "cell_type": "code",
   "execution_count": 75,
   "metadata": {},
   "outputs": [
    {
     "name": "stdout",
     "output_type": "stream",
     "text": [
      "Mean Squared Error from linear regression: 0.4629834612478618\n",
      "Mean Absolute Error from linear regression: 0.4000079387387294\n"
     ]
    }
   ],
   "source": [
    "#Set linear regression\n",
    "model_lr = linear_model.LinearRegression()\n",
    "model_lr.fit(X_train_scaled, Y_train)\n",
    "y_pred = model_lr.predict(X_test_scaled)\n",
    "mse_lr = mean_squared_error(Y_test, y_pred)\n",
    "mae_lr = mean_absolute_error(Y_test, y_pred)\n",
    "\n",
    "print('Mean Squared Error from linear regression: {}'.format(mse_lr))\n",
    "print('Mean Absolute Error from linear regression: {}'.format(mae_lr))"
   ]
  },
  {
   "cell_type": "markdown",
   "metadata": {},
   "source": [
    "## Regression_statsmodel"
   ]
  },
  {
   "cell_type": "markdown",
   "metadata": {},
   "source": [
    "## Univariate linear regression"
   ]
  },
  {
   "cell_type": "code",
   "execution_count": 60,
   "metadata": {},
   "outputs": [
    {
     "name": "stdout",
     "output_type": "stream",
     "text": [
      "                            OLS Regression Results                            \n",
      "==============================================================================\n",
      "Dep. Variable:                  Close   R-squared:                       0.973\n",
      "Model:                            OLS   Adj. R-squared:                  0.973\n",
      "Method:                 Least Squares   F-statistic:                 1.337e+05\n",
      "Date:                Sun, 27 Dec 2020   Prob (F-statistic):               0.00\n",
      "Time:                        20:58:47   Log-Likelihood:                -6684.3\n",
      "No. Observations:                3725   AIC:                         1.337e+04\n",
      "Df Residuals:                    3723   BIC:                         1.339e+04\n",
      "Df Model:                           1                                         \n",
      "Covariance Type:            nonrobust                                         \n",
      "==============================================================================\n",
      "                 coef    std err          t      P>|t|      [0.025      0.975]\n",
      "------------------------------------------------------------------------------\n",
      "const          0.2238      0.055      4.067      0.000       0.116       0.332\n",
      "Open           0.9825      0.003    365.621      0.000       0.977       0.988\n",
      "==============================================================================\n",
      "Omnibus:                     1735.486   Durbin-Watson:                   2.107\n",
      "Prob(Omnibus):                  0.000   Jarque-Bera (JB):           105422.113\n",
      "Skew:                           1.405   Prob(JB):                         0.00\n",
      "Kurtosis:                      28.910   Cond. No.                         47.3\n",
      "==============================================================================\n",
      "\n",
      "Warnings:\n",
      "[1] Standard Errors assume that the covariance matrix of the errors is correctly specified.\n"
     ]
    }
   ],
   "source": [
    "# X independent (Date)\n",
    "# Y dependent - we are predictiong Y\n",
    "X = df[['Open']]\n",
    "Y = df['Close']\n",
    "\n",
    "#Add constant value to independent variable\n",
    "X_ = sm.add_constant(X)\n",
    "#Fit the model\n",
    "model = sm.OLS(Y, X_)\n",
    "results = model.fit()\n",
    "print(results.summary())"
   ]
  },
  {
   "cell_type": "code",
   "execution_count": 61,
   "metadata": {},
   "outputs": [
    {
     "data": {
      "text/plain": [
       "'rsquared is : 0.9729042601256039'"
      ]
     },
     "metadata": {},
     "output_type": "display_data"
    },
    {
     "data": {
      "text/plain": [
       "'params is : const    0.223836\\nOpen     0.982491\\ndtype: float64'"
      ]
     },
     "metadata": {},
     "output_type": "display_data"
    },
    {
     "data": {
      "text/plain": [
       "'fittedvalues is : 0       17.869370\\n1       18.350791\\n2       17.574623\\n3       16.651082\\n4       15.373844\\n          ...    \\n3720    22.889898\\n3721    21.475111\\n3722    21.809158\\n3723    20.148749\\n3724    16.985129\\nLength: 3725, dtype: float64'"
      ]
     },
     "metadata": {},
     "output_type": "display_data"
    }
   ],
   "source": [
    "display(\"rsquared is : {}\".format(results.rsquared))\n",
    "display(\"params is : {}\".format(results.params))\n",
    "display(\"fittedvalues is : {}\".format(results.fittedvalues))"
   ]
  },
  {
   "cell_type": "markdown",
   "metadata": {},
   "source": [
    "## Multivariate linear regression"
   ]
  },
  {
   "cell_type": "code",
   "execution_count": 77,
   "metadata": {},
   "outputs": [
    {
     "name": "stdout",
     "output_type": "stream",
     "text": [
      "                            OLS Regression Results                            \n",
      "==============================================================================\n",
      "Dep. Variable:                  Close   R-squared:                       0.994\n",
      "Model:                            OLS   Adj. R-squared:                  0.994\n",
      "Method:                 Least Squares   F-statistic:                 1.900e+05\n",
      "Date:                Sun, 27 Dec 2020   Prob (F-statistic):               0.00\n",
      "Time:                        21:13:07   Log-Likelihood:                -4021.7\n",
      "No. Observations:                3725   AIC:                             8051.\n",
      "Df Residuals:                    3721   BIC:                             8076.\n",
      "Df Model:                           3                                         \n",
      "Covariance Type:            nonrobust                                         \n",
      "==============================================================================\n",
      "                 coef    std err          t      P>|t|      [0.025      0.975]\n",
      "------------------------------------------------------------------------------\n",
      "const         -0.0594      0.028     -2.115      0.035      -0.114      -0.004\n",
      "Open          -0.4857      0.014    -34.846      0.000      -0.513      -0.458\n",
      "VIX High       0.6870      0.010     71.927      0.000       0.668       0.706\n",
      "VIX Low        0.8019      0.014     58.247      0.000       0.775       0.829\n",
      "==============================================================================\n",
      "Omnibus:                     1344.770   Durbin-Watson:                   2.455\n",
      "Prob(Omnibus):                  0.000   Jarque-Bera (JB):           118056.259\n",
      "Skew:                           0.784   Prob(JB):                         0.00\n",
      "Kurtosis:                      30.535   Cond. No.                         86.6\n",
      "==============================================================================\n",
      "\n",
      "Warnings:\n",
      "[1] Standard Errors assume that the covariance matrix of the errors is correctly specified.\n"
     ]
    }
   ],
   "source": [
    "#Drop 'Date' column\n",
    "df = df.drop('Date', axis=1)\n",
    "\n",
    "# X independent \n",
    "# Y dependent - we are predictiong Y (Close)\n",
    "X = df[['Open', 'VIX High', 'VIX Low']]\n",
    "Y = df['Close']\n",
    "\n",
    "#Add constant to independent variables\n",
    "x = sm.add_constant(X)\n",
    "\n",
    "#Fit the model\n",
    "model = sm.OLS(Y, x)\n",
    "results = model.fit()\n",
    "print(results.summary())"
   ]
  },
  {
   "cell_type": "code",
   "execution_count": 78,
   "metadata": {},
   "outputs": [
    {
     "data": {
      "text/plain": [
       "'rsquared is : 0.9935131586068717'"
      ]
     },
     "metadata": {},
     "output_type": "display_data"
    },
    {
     "data": {
      "text/plain": [
       "'params is : const      -0.059351\\nOpen       -0.485745\\nVIX High    0.687020\\nVIX Low     0.801885\\ndtype: float64'"
      ]
     },
     "metadata": {},
     "output_type": "display_data"
    },
    {
     "data": {
      "text/plain": [
       "'fittedvalues is : 0       18.115271\\n1       17.666533\\n2       16.484559\\n3       15.755800\\n4       15.507817\\n          ...    \\n3720    25.107103\\n3721    24.589488\\n3722    20.607426\\n3723    18.287959\\n3724    18.765244\\nLength: 3725, dtype: float64'"
      ]
     },
     "metadata": {},
     "output_type": "display_data"
    }
   ],
   "source": [
    "display(\"rsquared is : {}\".format(results.rsquared))\n",
    "display(\"params is : {}\".format(results.params))\n",
    "display(\"fittedvalues is : {}\".format(results.fittedvalues))"
   ]
  },
  {
   "cell_type": "code",
   "execution_count": null,
   "metadata": {},
   "outputs": [],
   "source": []
  }
 ],
 "metadata": {
  "kernelspec": {
   "display_name": "Python 3",
   "language": "python",
   "name": "python3"
  },
  "language_info": {
   "codemirror_mode": {
    "name": "ipython",
    "version": 3
   },
   "file_extension": ".py",
   "mimetype": "text/x-python",
   "name": "python",
   "nbconvert_exporter": "python",
   "pygments_lexer": "ipython3",
   "version": "3.7.9"
  }
 },
 "nbformat": 4,
 "nbformat_minor": 4
}
