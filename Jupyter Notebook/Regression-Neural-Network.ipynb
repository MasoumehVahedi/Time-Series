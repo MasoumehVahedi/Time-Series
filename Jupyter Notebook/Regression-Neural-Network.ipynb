{
 "cells": [
  {
   "cell_type": "code",
   "execution_count": 2,
   "metadata": {},
   "outputs": [],
   "source": [
    "import pandas as pd\n",
    "import matplotlib.pyplot as plt\n",
    "\n",
    "from keras.models import Sequential\n",
    "from keras.layers import Dense\n",
    "from keras.wrappers.scikit_learn import KerasRegressor\n",
    "\n",
    "from sklearn import linear_model\n",
    "from sklearn.tree import DecisionTreeRegressor\n",
    "from sklearn.ensemble import RandomForestRegressor\n",
    "from sklearn.metrics import mean_squared_error, mean_absolute_error\n",
    "\n",
    "from sklearn.model_selection import cross_val_score\n",
    "from sklearn.model_selection import KFold\n",
    "from sklearn.model_selection import train_test_split\n",
    "from sklearn.preprocessing import StandardScaler"
   ]
  },
  {
   "cell_type": "code",
   "execution_count": 3,
   "metadata": {},
   "outputs": [
    {
     "name": "stdout",
     "output_type": "stream",
     "text": [
      "   VIX Open  VIX High  VIX Low  VIX Close\n",
      "0     17.96     18.68    17.54      18.22\n",
      "1     18.45     18.49    17.44      17.49\n",
      "2     17.66     17.67    16.19      16.73\n",
      "3     16.72     16.75    15.50      15.50\n",
      "4     15.42     15.68    15.32      15.61\n",
      "          VIX Open     VIX High      VIX Low    VIX Close\n",
      "count  3725.000000  3725.000000  3725.000000  3725.000000\n",
      "mean     18.457289    19.301055    17.611780    18.357952\n",
      "std       8.879643     9.465319     8.269978     8.844818\n",
      "min       9.010000     9.310000     8.560000     9.140000\n",
      "25%      13.010000    13.470000    12.540000    12.910000\n",
      "50%      15.720000    16.440000    15.070000    15.600000\n",
      "75%      20.900000    21.910000    19.890000    20.790000\n",
      "max      80.740000    89.530000    72.760000    80.860000\n"
     ]
    }
   ],
   "source": [
    "#Download of dataset : https://datahub.io/zelima1/finance-vix\n",
    "df = pd.read_csv('D:/finance-vix.txt',\n",
    "                sep=',',\n",
    "                infer_datetime_format=True,\n",
    "                index_col=False)\n",
    "df.fillna(0, inplace=True)\n",
    "#Drop date from dataset\n",
    "df.drop('Date', axis=1, inplace=True)\n",
    "\n",
    "print(df.head())\n",
    "print(df.describe())"
   ]
  },
  {
   "cell_type": "code",
   "execution_count": 4,
   "metadata": {},
   "outputs": [
    {
     "name": "stdout",
     "output_type": "stream",
     "text": [
      "X_train shape is : (2980, 3)\n",
      "Y_train shape is : (2980,)\n",
      "X_test shape is : (745, 3)\n",
      "Y_test shape is : (745,)\n"
     ]
    }
   ],
   "source": [
    "#Here we need to specify Features and Label (split dataset into features and target (VIX Close))\n",
    "X = df.drop(\"VIX Close\", axis=1)\n",
    "Y = df[\"VIX Close\"]\n",
    "\n",
    "#Split dataset to train and test\n",
    "X_train, X_test, Y_train, Y_test = train_test_split(X, Y, test_size=0.2, random_state=40)\n",
    "\n",
    "print('X_train shape is :', X_train.shape)\n",
    "print('Y_train shape is :', Y_train.shape)\n",
    "print('X_test shape is :', X_test.shape)\n",
    "print('Y_test shape is :', Y_test.shape)"
   ]
  },
  {
   "cell_type": "code",
   "execution_count": 5,
   "metadata": {},
   "outputs": [],
   "source": [
    "#Scale our data to prevent failing the model\n",
    "scaler = StandardScaler()\n",
    "scaler.fit(X_train)\n",
    "\n",
    "Xtrain_scaled = scaler.transform(X_train)\n",
    "Xtest_scaled = scaler.transform(X_test)"
   ]
  },
  {
   "cell_type": "markdown",
   "metadata": {},
   "source": [
    "# Set Neural Network"
   ]
  },
  {
   "cell_type": "code",
   "execution_count": 6,
   "metadata": {
    "scrolled": false
   },
   "outputs": [
    {
     "name": "stdout",
     "output_type": "stream",
     "text": [
      "Model: \"sequential_1\"\n",
      "_________________________________________________________________\n",
      "Layer (type)                 Output Shape              Param #   \n",
      "=================================================================\n",
      "dense_1 (Dense)              (None, 128)               512       \n",
      "_________________________________________________________________\n",
      "dense_2 (Dense)              (None, 64)                8256      \n",
      "_________________________________________________________________\n",
      "dense_3 (Dense)              (None, 1)                 65        \n",
      "=================================================================\n",
      "Total params: 8,833\n",
      "Trainable params: 8,833\n",
      "Non-trainable params: 0\n",
      "_________________________________________________________________\n",
      "WARNING:tensorflow:From C:\\Users\\VHD\\anaconda3\\envs\\SI\\lib\\site-packages\\keras\\backend\\tensorflow_backend.py:422: The name tf.global_variables is deprecated. Please use tf.compat.v1.global_variables instead.\n",
      "\n",
      "Train on 2384 samples, validate on 596 samples\n",
      "Epoch 1/100\n",
      "2384/2384 [==============================] - 0s 142us/step - loss: 277.8889 - mae: 14.5880 - val_loss: 80.4804 - val_mae: 7.5101\n",
      "Epoch 2/100\n",
      "2384/2384 [==============================] - 0s 76us/step - loss: 45.1696 - mae: 5.5803 - val_loss: 18.9438 - val_mae: 3.5378\n",
      "Epoch 3/100\n",
      "2384/2384 [==============================] - 0s 77us/step - loss: 10.9147 - mae: 2.5052 - val_loss: 3.8590 - val_mae: 1.4135\n",
      "Epoch 4/100\n",
      "2384/2384 [==============================] - 0s 81us/step - loss: 2.8422 - mae: 1.2076 - val_loss: 1.6381 - val_mae: 0.8405\n",
      "Epoch 5/100\n",
      "2384/2384 [==============================] - 0s 83us/step - loss: 1.4449 - mae: 0.8091 - val_loss: 1.0760 - val_mae: 0.6455\n",
      "Epoch 6/100\n",
      "2384/2384 [==============================] - 0s 78us/step - loss: 1.0411 - mae: 0.6640 - val_loss: 0.9589 - val_mae: 0.5912\n",
      "Epoch 7/100\n",
      "2384/2384 [==============================] - 0s 77us/step - loss: 0.9271 - mae: 0.6081 - val_loss: 0.8987 - val_mae: 0.5813\n",
      "Epoch 8/100\n",
      "2384/2384 [==============================] - 0s 78us/step - loss: 0.8485 - mae: 0.5869 - val_loss: 0.9593 - val_mae: 0.5941\n",
      "Epoch 9/100\n",
      "2384/2384 [==============================] - 0s 77us/step - loss: 0.8305 - mae: 0.5805 - val_loss: 0.8300 - val_mae: 0.5553\n",
      "Epoch 10/100\n",
      "2384/2384 [==============================] - 0s 81us/step - loss: 0.8298 - mae: 0.5711 - val_loss: 0.7960 - val_mae: 0.5447\n",
      "Epoch 11/100\n",
      "2384/2384 [==============================] - 0s 89us/step - loss: 0.7375 - mae: 0.5410 - val_loss: 0.7712 - val_mae: 0.5309\n",
      "Epoch 12/100\n",
      "2384/2384 [==============================] - 0s 87us/step - loss: 0.7322 - mae: 0.5378 - val_loss: 0.9956 - val_mae: 0.5806\n",
      "Epoch 13/100\n",
      "2384/2384 [==============================] - 0s 90us/step - loss: 0.7283 - mae: 0.5363 - val_loss: 0.7456 - val_mae: 0.5319\n",
      "Epoch 14/100\n",
      "2384/2384 [==============================] - 0s 85us/step - loss: 0.7291 - mae: 0.5270 - val_loss: 0.7006 - val_mae: 0.4972\n",
      "Epoch 15/100\n",
      "2384/2384 [==============================] - 0s 83us/step - loss: 0.6977 - mae: 0.5156 - val_loss: 0.6823 - val_mae: 0.4897\n",
      "Epoch 16/100\n",
      "2384/2384 [==============================] - 0s 78us/step - loss: 0.6336 - mae: 0.4967 - val_loss: 0.7043 - val_mae: 0.4862\n",
      "Epoch 17/100\n",
      "2384/2384 [==============================] - 0s 80us/step - loss: 0.6166 - mae: 0.4813 - val_loss: 0.6424 - val_mae: 0.4732\n",
      "Epoch 18/100\n",
      "2384/2384 [==============================] - 0s 83us/step - loss: 0.6279 - mae: 0.4833 - val_loss: 0.6308 - val_mae: 0.4635\n",
      "Epoch 19/100\n",
      "2384/2384 [==============================] - 0s 90us/step - loss: 0.5976 - mae: 0.4763 - val_loss: 0.9945 - val_mae: 0.5689\n",
      "Epoch 20/100\n",
      "2384/2384 [==============================] - 0s 89us/step - loss: 0.6155 - mae: 0.4821 - val_loss: 0.6220 - val_mae: 0.4695\n",
      "Epoch 21/100\n",
      "2384/2384 [==============================] - 0s 81us/step - loss: 0.5820 - mae: 0.4647 - val_loss: 0.6126 - val_mae: 0.4547\n",
      "Epoch 22/100\n",
      "2384/2384 [==============================] - 0s 83us/step - loss: 0.5982 - mae: 0.4675 - val_loss: 0.7772 - val_mae: 0.4759\n",
      "Epoch 23/100\n",
      "2384/2384 [==============================] - 0s 83us/step - loss: 0.5734 - mae: 0.4732 - val_loss: 0.6010 - val_mae: 0.4535\n",
      "Epoch 24/100\n",
      "2384/2384 [==============================] - 0s 85us/step - loss: 0.6169 - mae: 0.4760 - val_loss: 0.5972 - val_mae: 0.4625\n",
      "Epoch 25/100\n",
      "2384/2384 [==============================] - 0s 87us/step - loss: 0.5766 - mae: 0.4720 - val_loss: 0.8148 - val_mae: 0.5081\n",
      "Epoch 26/100\n",
      "2384/2384 [==============================] - 0s 89us/step - loss: 0.5871 - mae: 0.4581 - val_loss: 0.6018 - val_mae: 0.4504\n",
      "Epoch 27/100\n",
      "2384/2384 [==============================] - 0s 88us/step - loss: 0.6401 - mae: 0.4672 - val_loss: 0.6222 - val_mae: 0.4344\n",
      "Epoch 28/100\n",
      "2384/2384 [==============================] - 0s 78us/step - loss: 0.5780 - mae: 0.4587 - val_loss: 0.6735 - val_mae: 0.4345\n",
      "Epoch 29/100\n",
      "2384/2384 [==============================] - 0s 80us/step - loss: 0.5447 - mae: 0.4444 - val_loss: 0.6983 - val_mae: 0.4384\n",
      "Epoch 30/100\n",
      "2384/2384 [==============================] - 0s 83us/step - loss: 0.5557 - mae: 0.4450 - val_loss: 0.5823 - val_mae: 0.4336\n",
      "Epoch 31/100\n",
      "2384/2384 [==============================] - 0s 86us/step - loss: 0.5802 - mae: 0.4540 - val_loss: 0.9244 - val_mae: 0.4931\n",
      "Epoch 32/100\n",
      "2384/2384 [==============================] - 0s 84us/step - loss: 0.5601 - mae: 0.4497 - val_loss: 0.6623 - val_mae: 0.4631\n",
      "Epoch 33/100\n",
      "2384/2384 [==============================] - 0s 83us/step - loss: 0.5772 - mae: 0.4619 - val_loss: 0.5986 - val_mae: 0.4406\n",
      "Epoch 34/100\n",
      "2384/2384 [==============================] - 0s 79us/step - loss: 0.5616 - mae: 0.4584 - val_loss: 0.6659 - val_mae: 0.4557\n",
      "Epoch 35/100\n",
      "2384/2384 [==============================] - 0s 83us/step - loss: 0.5556 - mae: 0.4518 - val_loss: 0.8233 - val_mae: 0.4915\n",
      "Epoch 36/100\n",
      "2384/2384 [==============================] - 0s 78us/step - loss: 0.5254 - mae: 0.4438 - val_loss: 0.6092 - val_mae: 0.4632\n",
      "Epoch 37/100\n",
      "2384/2384 [==============================] - 0s 83us/step - loss: 0.5502 - mae: 0.4374 - val_loss: 0.5873 - val_mae: 0.4257\n",
      "Epoch 38/100\n",
      "2384/2384 [==============================] - 0s 89us/step - loss: 0.5416 - mae: 0.4464 - val_loss: 0.6038 - val_mae: 0.4204\n",
      "Epoch 39/100\n",
      "2384/2384 [==============================] - 0s 85us/step - loss: 0.6067 - mae: 0.4571 - val_loss: 0.9003 - val_mae: 0.5069\n",
      "Epoch 40/100\n",
      "2384/2384 [==============================] - 0s 87us/step - loss: 0.5699 - mae: 0.4584 - val_loss: 0.5956 - val_mae: 0.4222\n",
      "Epoch 41/100\n",
      "2384/2384 [==============================] - 0s 82us/step - loss: 0.5357 - mae: 0.4398 - val_loss: 0.5964 - val_mae: 0.4284\n",
      "Epoch 42/100\n",
      "2384/2384 [==============================] - 0s 89us/step - loss: 0.5969 - mae: 0.4735 - val_loss: 0.6284 - val_mae: 0.4139\n",
      "Epoch 43/100\n",
      "2384/2384 [==============================] - 0s 91us/step - loss: 0.5793 - mae: 0.4669 - val_loss: 0.6240 - val_mae: 0.4906\n",
      "Epoch 44/100\n",
      "2384/2384 [==============================] - 0s 81us/step - loss: 0.6020 - mae: 0.4751 - val_loss: 0.6640 - val_mae: 0.4579\n",
      "Epoch 45/100\n",
      "2384/2384 [==============================] - 0s 77us/step - loss: 0.6144 - mae: 0.4726 - val_loss: 0.6232 - val_mae: 0.4570\n",
      "Epoch 46/100\n",
      "2384/2384 [==============================] - 0s 74us/step - loss: 0.5278 - mae: 0.4484 - val_loss: 0.7369 - val_mae: 0.4392\n",
      "Epoch 47/100\n",
      "2384/2384 [==============================] - 0s 80us/step - loss: 0.5934 - mae: 0.4801 - val_loss: 0.5865 - val_mae: 0.4400\n",
      "Epoch 48/100\n",
      "2384/2384 [==============================] - 0s 76us/step - loss: 0.6702 - mae: 0.4969 - val_loss: 0.6473 - val_mae: 0.4325\n",
      "Epoch 49/100\n",
      "2384/2384 [==============================] - 0s 74us/step - loss: 0.5303 - mae: 0.4332 - val_loss: 0.5786 - val_mae: 0.4280\n",
      "Epoch 50/100\n",
      "2384/2384 [==============================] - 0s 78us/step - loss: 0.5608 - mae: 0.4420 - val_loss: 0.8461 - val_mae: 0.5080\n",
      "Epoch 51/100\n",
      "2384/2384 [==============================] - 0s 77us/step - loss: 0.5710 - mae: 0.4633 - val_loss: 0.5762 - val_mae: 0.4160\n",
      "Epoch 52/100\n",
      "2384/2384 [==============================] - 0s 77us/step - loss: 0.5495 - mae: 0.4505 - val_loss: 0.7338 - val_mae: 0.4422\n",
      "Epoch 53/100\n",
      "2384/2384 [==============================] - 0s 76us/step - loss: 0.5773 - mae: 0.4689 - val_loss: 0.6298 - val_mae: 0.4136\n",
      "Epoch 54/100\n",
      "2384/2384 [==============================] - 0s 77us/step - loss: 0.5522 - mae: 0.4690 - val_loss: 0.6426 - val_mae: 0.4145\n",
      "Epoch 55/100\n",
      "2384/2384 [==============================] - 0s 77us/step - loss: 0.5434 - mae: 0.4356 - val_loss: 0.6876 - val_mae: 0.4236\n",
      "Epoch 56/100\n",
      "2384/2384 [==============================] - 0s 76us/step - loss: 0.5761 - mae: 0.4473 - val_loss: 0.6254 - val_mae: 0.4112\n",
      "Epoch 57/100\n",
      "2384/2384 [==============================] - 0s 78us/step - loss: 0.5976 - mae: 0.4571 - val_loss: 0.8067 - val_mae: 0.4429\n",
      "Epoch 58/100\n",
      "2384/2384 [==============================] - 0s 83us/step - loss: 0.5681 - mae: 0.4615 - val_loss: 0.6977 - val_mae: 0.4264\n",
      "Epoch 59/100\n",
      "2384/2384 [==============================] - 0s 74us/step - loss: 0.5611 - mae: 0.4459 - val_loss: 0.6034 - val_mae: 0.4633\n",
      "Epoch 60/100\n",
      "2384/2384 [==============================] - 0s 82us/step - loss: 0.5767 - mae: 0.4567 - val_loss: 1.3931 - val_mae: 0.6322\n",
      "Epoch 61/100\n",
      "2384/2384 [==============================] - 0s 82us/step - loss: 0.6630 - mae: 0.5045 - val_loss: 0.6326 - val_mae: 0.4094\n",
      "Epoch 62/100\n",
      "2384/2384 [==============================] - 0s 82us/step - loss: 0.5370 - mae: 0.4423 - val_loss: 0.6054 - val_mae: 0.4079\n",
      "Epoch 63/100\n",
      "2384/2384 [==============================] - 0s 88us/step - loss: 0.5893 - mae: 0.4547 - val_loss: 0.5864 - val_mae: 0.4189\n",
      "Epoch 64/100\n",
      "2384/2384 [==============================] - 0s 85us/step - loss: 0.5531 - mae: 0.4650 - val_loss: 0.5589 - val_mae: 0.4062\n",
      "Epoch 65/100\n",
      "2384/2384 [==============================] - 0s 93us/step - loss: 0.5793 - mae: 0.4638 - val_loss: 0.5691 - val_mae: 0.4309\n",
      "Epoch 66/100\n",
      "2384/2384 [==============================] - 0s 87us/step - loss: 0.6317 - mae: 0.4799 - val_loss: 0.7403 - val_mae: 0.5416\n",
      "Epoch 67/100\n",
      "2384/2384 [==============================] - 0s 74us/step - loss: 0.6041 - mae: 0.4822 - val_loss: 0.8116 - val_mae: 0.4774\n",
      "Epoch 68/100\n",
      "2384/2384 [==============================] - 0s 74us/step - loss: 0.5472 - mae: 0.4451 - val_loss: 0.5787 - val_mae: 0.4110\n",
      "Epoch 69/100\n",
      "2384/2384 [==============================] - 0s 73us/step - loss: 0.5644 - mae: 0.4577 - val_loss: 0.6128 - val_mae: 0.4478\n",
      "Epoch 70/100\n",
      "2384/2384 [==============================] - 0s 74us/step - loss: 0.5435 - mae: 0.4459 - val_loss: 0.8061 - val_mae: 0.4633\n",
      "Epoch 71/100\n",
      "2384/2384 [==============================] - 0s 83us/step - loss: 0.5624 - mae: 0.4687 - val_loss: 1.1207 - val_mae: 0.5608\n",
      "Epoch 72/100\n",
      "2384/2384 [==============================] - 0s 78us/step - loss: 0.5965 - mae: 0.4804 - val_loss: 0.6478 - val_mae: 0.4133\n",
      "Epoch 73/100\n",
      "2384/2384 [==============================] - 0s 78us/step - loss: 0.5691 - mae: 0.4420 - val_loss: 0.5871 - val_mae: 0.4531\n",
      "Epoch 74/100\n",
      "2384/2384 [==============================] - 0s 96us/step - loss: 0.5282 - mae: 0.4448 - val_loss: 0.8391 - val_mae: 0.4859\n",
      "Epoch 75/100\n",
      "2384/2384 [==============================] - 0s 95us/step - loss: 0.6040 - mae: 0.4589 - val_loss: 0.5879 - val_mae: 0.4309\n",
      "Epoch 76/100\n",
      "2384/2384 [==============================] - 0s 94us/step - loss: 0.5771 - mae: 0.4599 - val_loss: 0.6025 - val_mae: 0.4354\n",
      "Epoch 77/100\n",
      "2384/2384 [==============================] - 0s 83us/step - loss: 0.5358 - mae: 0.4479 - val_loss: 0.6150 - val_mae: 0.4080\n",
      "Epoch 78/100\n",
      "2384/2384 [==============================] - 0s 82us/step - loss: 0.5261 - mae: 0.4432 - val_loss: 0.5819 - val_mae: 0.4165\n",
      "Epoch 79/100\n",
      "2384/2384 [==============================] - 0s 85us/step - loss: 0.5222 - mae: 0.4353 - val_loss: 0.8176 - val_mae: 0.4756\n",
      "Epoch 80/100\n",
      "2384/2384 [==============================] - 0s 83us/step - loss: 0.5321 - mae: 0.4412 - val_loss: 0.7716 - val_mae: 0.4632\n",
      "Epoch 81/100\n",
      "2384/2384 [==============================] - 0s 86us/step - loss: 0.5409 - mae: 0.4413 - val_loss: 0.6129 - val_mae: 0.4082\n",
      "Epoch 82/100\n",
      "2384/2384 [==============================] - 0s 83us/step - loss: 0.5729 - mae: 0.4701 - val_loss: 0.8014 - val_mae: 0.4726\n",
      "Epoch 83/100\n",
      "2384/2384 [==============================] - 0s 87us/step - loss: 0.5384 - mae: 0.4398 - val_loss: 0.6074 - val_mae: 0.4210\n",
      "Epoch 84/100\n",
      "2384/2384 [==============================] - 0s 86us/step - loss: 0.5641 - mae: 0.4472 - val_loss: 0.8485 - val_mae: 0.5102\n",
      "Epoch 85/100\n",
      "2384/2384 [==============================] - 0s 84us/step - loss: 0.5594 - mae: 0.4521 - val_loss: 0.6224 - val_mae: 0.4067\n",
      "Epoch 86/100\n",
      "2384/2384 [==============================] - 0s 77us/step - loss: 0.5775 - mae: 0.4657 - val_loss: 0.7447 - val_mae: 0.4897\n",
      "Epoch 87/100\n",
      "2384/2384 [==============================] - 0s 77us/step - loss: 0.5764 - mae: 0.4625 - val_loss: 0.6880 - val_mae: 0.4203\n",
      "Epoch 88/100\n",
      "2384/2384 [==============================] - 0s 76us/step - loss: 0.5951 - mae: 0.4767 - val_loss: 1.0243 - val_mae: 0.5255\n",
      "Epoch 89/100\n",
      "2384/2384 [==============================] - 0s 79us/step - loss: 0.5842 - mae: 0.4842 - val_loss: 0.7042 - val_mae: 0.4491\n",
      "Epoch 90/100\n",
      "2384/2384 [==============================] - 0s 78us/step - loss: 0.5553 - mae: 0.4611 - val_loss: 0.7203 - val_mae: 0.4343\n",
      "Epoch 91/100\n",
      "2384/2384 [==============================] - 0s 76us/step - loss: 0.6024 - mae: 0.4746 - val_loss: 0.6095 - val_mae: 0.4116\n",
      "Epoch 92/100\n",
      "2384/2384 [==============================] - 0s 79us/step - loss: 0.5485 - mae: 0.4483 - val_loss: 0.7803 - val_mae: 0.4488\n",
      "Epoch 93/100\n",
      "2384/2384 [==============================] - 0s 88us/step - loss: 0.5500 - mae: 0.4448 - val_loss: 0.6344 - val_mae: 0.4339\n",
      "Epoch 94/100\n",
      "2384/2384 [==============================] - 0s 91us/step - loss: 0.5506 - mae: 0.4530 - val_loss: 0.6491 - val_mae: 0.5131\n",
      "Epoch 95/100\n",
      "2384/2384 [==============================] - 0s 94us/step - loss: 0.5565 - mae: 0.4676 - val_loss: 0.6727 - val_mae: 0.4434\n",
      "Epoch 96/100\n",
      "2384/2384 [==============================] - 0s 93us/step - loss: 0.5648 - mae: 0.4623 - val_loss: 0.7008 - val_mae: 0.4284\n",
      "Epoch 97/100\n",
      "2384/2384 [==============================] - 0s 86us/step - loss: 0.5306 - mae: 0.4377 - val_loss: 0.7008 - val_mae: 0.4570\n",
      "Epoch 98/100\n",
      "2384/2384 [==============================] - 0s 82us/step - loss: 0.5656 - mae: 0.4524 - val_loss: 0.6397 - val_mae: 0.4192\n",
      "Epoch 99/100\n",
      "2384/2384 [==============================] - 0s 91us/step - loss: 0.5587 - mae: 0.4629 - val_loss: 0.7296 - val_mae: 0.4289\n",
      "Epoch 100/100\n",
      "2384/2384 [==============================] - 0s 81us/step - loss: 0.5659 - mae: 0.4594 - val_loss: 0.6975 - val_mae: 0.4344\n"
     ]
    }
   ],
   "source": [
    "#In this case, we do not need convolutuonal layer as there are one dimension, while in image we have two dimensions\n",
    "model = Sequential()\n",
    "model.add(Dense(128, input_dim=3, activation='relu'))\n",
    "model.add(Dense(64, activation='relu'))\n",
    "#Output layer\n",
    "model.add(Dense(1,  activation='linear'))\n",
    "#Compile the model\n",
    "model.compile(loss='mean_squared_error', optimizer='adam', metrics=['mae'])\n",
    "model.summary()\n",
    "#Fit the model\n",
    "history = model.fit(Xtrain_scaled, Y_train, epochs=100, validation_split=0.2)"
   ]
  },
  {
   "cell_type": "code",
   "execution_count": 7,
   "metadata": {},
   "outputs": [
    {
     "data": {
      "image/png": "[encoded data removed]",
      "text/plain": [
       "<Figure size 432x288 with 1 Axes>"
      ]
     },
     "metadata": {
      "needs_background": "light"
     },
     "output_type": "display_data"
    }
   ],
   "source": [
    "#Plotting training and validation accuracy and loss at each epoch\n",
    "loss = history.history['loss']\n",
    "val_loss = history.history['val_loss']\n",
    "epochs = range(1, len(loss) + 1)\n",
    "plt.plot(epochs, loss, 'y', label='Training loss')\n",
    "plt.plot(epochs, val_loss, 'r', label='Validataion loss')\n",
    "plt.title('Training and validation loss')\n",
    "plt.xlabel('Epochs')\n",
    "plt.ylabel('Loss')\n",
    "plt.legend()\n",
    "plt.show()"
   ]
  },
  {
   "cell_type": "code",
   "execution_count": 8,
   "metadata": {},
   "outputs": [
    {
     "data": {
      "image/png": "[encoded data removed]",
      "text/plain": [
       "<Figure size 432x288 with 1 Axes>"
      ]
     },
     "metadata": {
      "needs_background": "light"
     },
     "output_type": "display_data"
    }
   ],
   "source": [
    "acc = history.history['mae']\n",
    "val_acc = history.history['val_mae']\n",
    "plt.plot(epochs, acc, 'y', label='Training MAE')\n",
    "plt.plot(epochs, val_acc, 'r', label='Validation MAE')\n",
    "plt.title('Training and validation MAE')\n",
    "plt.xlabel('Epochs')\n",
    "plt.ylabel('Accuracy')\n",
    "plt.legend()\n",
    "plt.show()"
   ]
  },
  {
   "cell_type": "code",
   "execution_count": 9,
   "metadata": {},
   "outputs": [
    {
     "name": "stdout",
     "output_type": "stream",
     "text": [
      "Predicted values are [[12.316861]\n",
      " [29.846092]\n",
      " [52.868774]\n",
      " [17.923227]\n",
      " [57.38941 ]\n",
      " [12.244268]\n",
      " [13.206843]\n",
      " [ 9.88486 ]\n",
      " [11.491477]\n",
      " [24.516312]]\n",
      "Real Values are 3192    11.94\n",
      "3547    37.32\n",
      "1198    52.05\n",
      "1108    18.14\n",
      "1247    56.76\n",
      "740     12.07\n",
      "2522    12.89\n",
      "3515     9.53\n",
      "396     11.57\n",
      "1442    24.95\n",
      "Name: VIX Close, dtype: float64\n"
     ]
    }
   ],
   "source": [
    "#Predict the model using test data\n",
    "pred = model.predict(Xtest_scaled[:10])\n",
    "print('Predicted values are {}'.format(pred))\n",
    "print('Real Values are {}'.format(Y_test[:10]))"
   ]
  },
  {
   "cell_type": "code",
   "execution_count": 10,
   "metadata": {},
   "outputs": [
    {
     "name": "stdout",
     "output_type": "stream",
     "text": [
      "745/745 [==============================] - 0s 35us/step\n",
      "Mean Squared Error from neural net: 0.47300801405170617\n",
      "Mean Absolute Error from neural net: 0.4169711768627167\n"
     ]
    }
   ],
   "source": [
    "#Comparison with other models \n",
    "#mse = mean squared error, \n",
    "#mae = mean absolute error\n",
    "mse_neural, mae_neural = model.evaluate(Xtest_scaled, Y_test)\n",
    "print('Mean Squared Error from neural net: {}'.format(mse_neural))\n",
    "print('Mean Absolute Error from neural net: {}'.format(mae_neural))"
   ]
  },
  {
   "cell_type": "code",
   "execution_count": null,
   "metadata": {},
   "outputs": [],
   "source": []
  }
 ],
 "metadata": {
  "kernelspec": {
   "display_name": "Python 3",
   "language": "python",
   "name": "python3"
  },
  "language_info": {
   "codemirror_mode": {
    "name": "ipython",
    "version": 3
   },
   "file_extension": ".py",
   "mimetype": "text/x-python",
   "name": "python",
   "nbconvert_exporter": "python",
   "pygments_lexer": "ipython3",
   "version": "3.7.9"
  }
 },
 "nbformat": 4,
 "nbformat_minor": 4
}
