{
 "cells": [
  {
   "cell_type": "code",
   "execution_count": 2,
   "metadata": {},
   "outputs": [],
   "source": [
    "import pandas as pd\n",
    "import matplotlib.pyplot as plt\n",
    "\n",
    "from sklearn.model_selection import cross_val_score\n",
    "from sklearn.model_selection import KFold\n",
    "from sklearn.model_selection import train_test_split\n",
    "from sklearn.preprocessing import StandardScaler\n",
    "\n",
    "from sklearn import linear_model\n",
    "from sklearn.tree import DecisionTreeRegressor\n",
    "from sklearn.metrics import mean_squared_error, mean_absolute_error\n",
    "from sklearn.ensemble import RandomForestRegressor"
   ]
  },
  {
   "cell_type": "code",
   "execution_count": 4,
   "metadata": {},
   "outputs": [
    {
     "data": {
      "text/html": [
       "<div>\n",
       "<style scoped>\n",
       "    .dataframe tbody tr th:only-of-type {\n",
       "        vertical-align: middle;\n",
       "    }\n",
       "\n",
       "    .dataframe tbody tr th {\n",
       "        vertical-align: top;\n",
       "    }\n",
       "\n",
       "    .dataframe thead th {\n",
       "        text-align: right;\n",
       "    }\n",
       "</style>\n",
       "<table border=\"1\" class=\"dataframe\">\n",
       "  <thead>\n",
       "    <tr style=\"text-align: right;\">\n",
       "      <th></th>\n",
       "      <th>VIX Open</th>\n",
       "      <th>VIX High</th>\n",
       "      <th>VIX Low</th>\n",
       "      <th>VIX Close</th>\n",
       "    </tr>\n",
       "  </thead>\n",
       "  <tbody>\n",
       "    <tr>\n",
       "      <th>0</th>\n",
       "      <td>17.96</td>\n",
       "      <td>18.68</td>\n",
       "      <td>17.54</td>\n",
       "      <td>18.22</td>\n",
       "    </tr>\n",
       "    <tr>\n",
       "      <th>1</th>\n",
       "      <td>18.45</td>\n",
       "      <td>18.49</td>\n",
       "      <td>17.44</td>\n",
       "      <td>17.49</td>\n",
       "    </tr>\n",
       "    <tr>\n",
       "      <th>2</th>\n",
       "      <td>17.66</td>\n",
       "      <td>17.67</td>\n",
       "      <td>16.19</td>\n",
       "      <td>16.73</td>\n",
       "    </tr>\n",
       "    <tr>\n",
       "      <th>3</th>\n",
       "      <td>16.72</td>\n",
       "      <td>16.75</td>\n",
       "      <td>15.50</td>\n",
       "      <td>15.50</td>\n",
       "    </tr>\n",
       "    <tr>\n",
       "      <th>4</th>\n",
       "      <td>15.42</td>\n",
       "      <td>15.68</td>\n",
       "      <td>15.32</td>\n",
       "      <td>15.61</td>\n",
       "    </tr>\n",
       "  </tbody>\n",
       "</table>\n",
       "</div>"
      ],
      "text/plain": [
       "   VIX Open  VIX High  VIX Low  VIX Close\n",
       "0     17.96     18.68    17.54      18.22\n",
       "1     18.45     18.49    17.44      17.49\n",
       "2     17.66     17.67    16.19      16.73\n",
       "3     16.72     16.75    15.50      15.50\n",
       "4     15.42     15.68    15.32      15.61"
      ]
     },
     "metadata": {},
     "output_type": "display_data"
    }
   ],
   "source": [
    "df = pd.read_csv('D:/finance-vix.txt',\n",
    "                     sep=',',\n",
    "                     parse_dates=[0],\n",
    "                     infer_datetime_format=True,\n",
    "                     index_col=False,\n",
    "                     na_values=['nan', '?'])\n",
    "\n",
    "#Fill na values with 0\n",
    "df.fillna(0, inplace=True)\n",
    "\n",
    "#Drop date from dataset\n",
    "df = df.drop('Date', axis=1)\n",
    "display(df.head())"
   ]
  },
  {
   "cell_type": "code",
   "execution_count": 5,
   "metadata": {},
   "outputs": [
    {
     "data": {
      "text/html": [
       "<div>\n",
       "<style scoped>\n",
       "    .dataframe tbody tr th:only-of-type {\n",
       "        vertical-align: middle;\n",
       "    }\n",
       "\n",
       "    .dataframe tbody tr th {\n",
       "        vertical-align: top;\n",
       "    }\n",
       "\n",
       "    .dataframe thead th {\n",
       "        text-align: right;\n",
       "    }\n",
       "</style>\n",
       "<table border=\"1\" class=\"dataframe\">\n",
       "  <thead>\n",
       "    <tr style=\"text-align: right;\">\n",
       "      <th></th>\n",
       "      <th>Open</th>\n",
       "      <th>VIX High</th>\n",
       "      <th>VIX Low</th>\n",
       "      <th>VIX Close</th>\n",
       "    </tr>\n",
       "  </thead>\n",
       "  <tbody>\n",
       "    <tr>\n",
       "      <th>count</th>\n",
       "      <td>3725.000000</td>\n",
       "      <td>3725.000000</td>\n",
       "      <td>3725.000000</td>\n",
       "      <td>3725.000000</td>\n",
       "    </tr>\n",
       "    <tr>\n",
       "      <th>mean</th>\n",
       "      <td>18.457289</td>\n",
       "      <td>19.301055</td>\n",
       "      <td>17.611780</td>\n",
       "      <td>18.357952</td>\n",
       "    </tr>\n",
       "    <tr>\n",
       "      <th>std</th>\n",
       "      <td>8.879643</td>\n",
       "      <td>9.465319</td>\n",
       "      <td>8.269978</td>\n",
       "      <td>8.844818</td>\n",
       "    </tr>\n",
       "    <tr>\n",
       "      <th>min</th>\n",
       "      <td>9.010000</td>\n",
       "      <td>9.310000</td>\n",
       "      <td>8.560000</td>\n",
       "      <td>9.140000</td>\n",
       "    </tr>\n",
       "    <tr>\n",
       "      <th>25%</th>\n",
       "      <td>13.010000</td>\n",
       "      <td>13.470000</td>\n",
       "      <td>12.540000</td>\n",
       "      <td>12.910000</td>\n",
       "    </tr>\n",
       "    <tr>\n",
       "      <th>50%</th>\n",
       "      <td>15.720000</td>\n",
       "      <td>16.440000</td>\n",
       "      <td>15.070000</td>\n",
       "      <td>15.600000</td>\n",
       "    </tr>\n",
       "    <tr>\n",
       "      <th>75%</th>\n",
       "      <td>20.900000</td>\n",
       "      <td>21.910000</td>\n",
       "      <td>19.890000</td>\n",
       "      <td>20.790000</td>\n",
       "    </tr>\n",
       "    <tr>\n",
       "      <th>max</th>\n",
       "      <td>80.740000</td>\n",
       "      <td>89.530000</td>\n",
       "      <td>72.760000</td>\n",
       "      <td>80.860000</td>\n",
       "    </tr>\n",
       "  </tbody>\n",
       "</table>\n",
       "</div>"
      ],
      "text/plain": [
       "              Open     VIX High      VIX Low    VIX Close\n",
       "count  3725.000000  3725.000000  3725.000000  3725.000000\n",
       "mean     18.457289    19.301055    17.611780    18.357952\n",
       "std       8.879643     9.465319     8.269978     8.844818\n",
       "min       9.010000     9.310000     8.560000     9.140000\n",
       "25%      13.010000    13.470000    12.540000    12.910000\n",
       "50%      15.720000    16.440000    15.070000    15.600000\n",
       "75%      20.900000    21.910000    19.890000    20.790000\n",
       "max      80.740000    89.530000    72.760000    80.860000"
      ]
     },
     "metadata": {},
     "output_type": "display_data"
    }
   ],
   "source": [
    "#To change the name of VIX Open column to OPEN \n",
    "df = df.rename(columns={'VIX Open':'Open'})\n",
    "display(df.describe())"
   ]
  },
  {
   "cell_type": "code",
   "execution_count": 6,
   "metadata": {},
   "outputs": [],
   "source": [
    "#Here we need to specify features and labels\n",
    "X = df.drop('Open', axis=1)\n",
    "Y = df['Open']"
   ]
  },
  {
   "cell_type": "code",
   "execution_count": 7,
   "metadata": {},
   "outputs": [
    {
     "name": "stdout",
     "output_type": "stream",
     "text": [
      "X_train shape (2980, 3)\n",
      "Y_train shape (2980,)\n",
      "X_test shape (745, 3)\n",
      "Y_test shape (745,)\n"
     ]
    }
   ],
   "source": [
    "#Now split our data into train and test\n",
    "X_train, X_test, Y_train, Y_test = train_test_split(X, Y, test_size=0.2, random_state=20)\n",
    "\n",
    "print('X_train shape {}'.format(X_train.shape))\n",
    "print('Y_train shape {}'.format(Y_train.shape))\n",
    "print('X_test shape {}'.format(X_test.shape))\n",
    "print('Y_test shape {}'.format(Y_test.shape))"
   ]
  },
  {
   "cell_type": "code",
   "execution_count": 8,
   "metadata": {},
   "outputs": [],
   "source": [
    "#Scale data, otherwise model will fail\n",
    "scaler = StandardScaler()\n",
    "scaler = scaler.fit(X_train)\n",
    "\n",
    "X_train_scaled = scaler.transform(X_train)\n",
    "X_test_scaled = scaler.transform(X_test)"
   ]
  },
  {
   "cell_type": "markdown",
   "metadata": {},
   "source": [
    "# Set Decision Tree"
   ]
  },
  {
   "cell_type": "code",
   "execution_count": 10,
   "metadata": {},
   "outputs": [
    {
     "name": "stdout",
     "output_type": "stream",
     "text": [
      "Mean Squared Error from Decision Tree: 1.3091687248322148\n",
      "Mean Absolute Error from Decision Tree: 0.5928456375838927\n"
     ]
    }
   ],
   "source": [
    "#Create an instance\n",
    "model = DecisionTreeRegressor()\n",
    "#Fit the DT model\n",
    "model.fit(X_train_scaled, Y_train)\n",
    "#Predict the model\n",
    "y_pred = model.predict(X_test_scaled)\n",
    "\n",
    "DT_mse = mean_squared_error(Y_test, y_pred)\n",
    "DT_mae = mean_absolute_error(Y_test, y_pred)\n",
    "\n",
    "print('Mean Squared Error from Decision Tree: {}'.format(DT_mse))\n",
    "print('Mean Absolute Error from Decision Tree: {}'.format(DT_mae))"
   ]
  },
  {
   "cell_type": "markdown",
   "metadata": {},
   "source": [
    "# Set Random Forest"
   ]
  },
  {
   "cell_type": "code",
   "execution_count": 11,
   "metadata": {},
   "outputs": [
    {
     "name": "stdout",
     "output_type": "stream",
     "text": [
      "Mean squared error using Random Forest: 0.6342885886651759\n",
      "Mean absolute error Using Random Forest: 0.4713964205816558\n"
     ]
    }
   ],
   "source": [
    "model = RandomForestRegressor(n_estimators=30, random_state=30)\n",
    "model.fit(X_train_scaled, Y_train)\n",
    "y_pred = model.predict(X_test_scaled)\n",
    "RF_mse = mean_squared_error(Y_test, y_pred)\n",
    "RF_mae = mean_absolute_error(Y_test, y_pred)\n",
    "\n",
    "print('Mean squared error using Random Forest: {}'.format(RF_mse))\n",
    "print('Mean absolute error Using Random Forest: {}'.format(RF_mae))"
   ]
  },
  {
   "cell_type": "markdown",
   "metadata": {},
   "source": [
    "### To investigate which parameters are most importance in random forest decision"
   ]
  },
  {
   "cell_type": "code",
   "execution_count": 12,
   "metadata": {},
   "outputs": [
    {
     "name": "stdout",
     "output_type": "stream",
     "text": [
      "VIX Low      0.838318\n",
      "VIX High     0.156600\n",
      "VIX Close    0.005082\n",
      "dtype: float64\n"
     ]
    }
   ],
   "source": [
    "features = list(X.columns)\n",
    "important_features = pd.Series(model.feature_importances_, index=features).sort_values(ascending=False)\n",
    "print(important_features)"
   ]
  },
  {
   "cell_type": "code",
   "execution_count": null,
   "metadata": {},
   "outputs": [],
   "source": []
  }
 ],
 "metadata": {
  "kernelspec": {
   "display_name": "Python 3",
   "language": "python",
   "name": "python3"
  },
  "language_info": {
   "codemirror_mode": {
    "name": "ipython",
    "version": 3
   },
   "file_extension": ".py",
   "mimetype": "text/x-python",
   "name": "python",
   "nbconvert_exporter": "python",
   "pygments_lexer": "ipython3",
   "version": "3.7.9"
  }
 },
 "nbformat": 4,
 "nbformat_minor": 4
}
